{
 "cells": [
  {
   "cell_type": "code",
   "execution_count": 317,
   "metadata": {},
   "outputs": [],
   "source": [
    "import nltk\n",
    "from nltk.corpus import stopwords\n",
    "from nltk.tokenize import word_tokenize\n",
    "from nltk.tag import pos_tag \n",
    "import dateparser\n",
    "import dateutil"
   ]
  },
  {
   "cell_type": "code",
   "execution_count": 318,
   "metadata": {},
   "outputs": [],
   "source": [
    "stop_words = set(stopwords.words('english')) \n",
    "# we need following words to process, so remove them from stop_words\n",
    "stop_words.remove('at')\n",
    "stop_words.remove('to')\n",
    "stop_words.remove('from')\n",
    "stop_words.remove('on')"
   ]
  },
  {
   "cell_type": "code",
   "execution_count": 319,
   "metadata": {},
   "outputs": [],
   "source": [
    "def preprocess(sent):\n",
    "    tk_sent = nltk.word_tokenize(sent)\n",
    "    filtered_sentence = [] \n",
    "    for word in tk_sent: \n",
    "        if word not in stop_words: \n",
    "            filtered_sentence.append(word) \n",
    "    prep = nltk.pos_tag(filtered_sentence)\n",
    "    return prep"
   ]
  },
  {
   "cell_type": "code",
   "execution_count": 320,
   "metadata": {},
   "outputs": [],
   "source": [
    "example = 'Driving to Hamilton from Niagara Falls at 8pm on December 12th, 2 spots needed'\n",
    "example1 = 'Hi I need 3 seats from BK Plaza to Communitech Data Hub at 5pm today'"
   ]
  },
  {
   "cell_type": "code",
   "execution_count": 321,
   "metadata": {
    "scrolled": false
   },
   "outputs": [
    {
     "data": {
      "text/plain": [
       "[('Driving', 'VBG'),\n",
       " ('to', 'TO'),\n",
       " ('Hamilton', 'NNP'),\n",
       " ('from', 'IN'),\n",
       " ('Niagara', 'NNP'),\n",
       " ('Falls', 'NNP'),\n",
       " ('at', 'IN'),\n",
       " ('8pm', 'CD'),\n",
       " ('on', 'IN'),\n",
       " ('December', 'NNP'),\n",
       " ('12th', 'CD'),\n",
       " (',', ','),\n",
       " ('2', 'CD'),\n",
       " ('spots', 'NNS'),\n",
       " ('needed', 'VBD')]"
      ]
     },
     "execution_count": 321,
     "metadata": {},
     "output_type": "execute_result"
    }
   ],
   "source": [
    "preprocess(example)\n"
   ]
  },
  {
   "cell_type": "code",
   "execution_count": 322,
   "metadata": {
    "scrolled": false
   },
   "outputs": [
    {
     "data": {
      "text/plain": [
       "[('Hi', 'NNP'),\n",
       " ('I', 'PRP'),\n",
       " ('need', 'VBP'),\n",
       " ('3', 'CD'),\n",
       " ('seats', 'NNS'),\n",
       " ('from', 'IN'),\n",
       " ('BK', 'NNP'),\n",
       " ('Plaza', 'NNP'),\n",
       " ('to', 'TO'),\n",
       " ('Communitech', 'NNP'),\n",
       " ('Data', 'NNP'),\n",
       " ('Hub', 'NNP'),\n",
       " ('at', 'IN'),\n",
       " ('5pm', 'CD'),\n",
       " ('today', 'NN')]"
      ]
     },
     "execution_count": 322,
     "metadata": {},
     "output_type": "execute_result"
    }
   ],
   "source": [
    "preprocess(example1)"
   ]
  },
  {
   "cell_type": "code",
   "execution_count": 323,
   "metadata": {
    "scrolled": false
   },
   "outputs": [],
   "source": [
    "def get_info(sent):\n",
    "    loc_from_entered = False\n",
    "    loc_to_entered = False\n",
    "    loc_from = \"\"\n",
    "    loc_to = \"\"\n",
    "    time = \"\" # the time requested for the ride\n",
    "    time_entered = False\n",
    "    spot = 1 # the number of spots needed/available, default value is 1\n",
    "    \n",
    "    Seats = set([\"seats\", \"Seats\", \"seat\", \"Seat\", \"spot\", \"spots\", \"Spot\", \"Spots\"])\n",
    "    Months = set([\"January\", \"january\", \"February\", \"february\", \"March\", \"march\", \"April\", \"april\", \"May\", \"may\", \"June\", \"june\", \"July\", \"july\", \"August\", \"august\", \"September\", \"september\", \"October\", \"october\", \"November\", \"november\", \"December\", \"december\"])    \n",
    "    sent = preprocess(sent)\n",
    "    for i in range(len(sent)):\n",
    "        if (sent[i][0] == \"from\") or (sent[i][0] == \"From\"):\n",
    "            j = i + 1\n",
    "            while j < len(sent):\n",
    "                if sent[j][1] == \"NNP\":\n",
    "                    loc_from = loc_from + (sent[j][0]) + \" \"\n",
    "                else:\n",
    "                    break\n",
    "                j += 1\n",
    "            loc_from_entered = True\n",
    "            i = j\n",
    "                \n",
    "        elif sent[i][1] == \"TO\":\n",
    "            j = i + 1\n",
    "            while j < len(sent):\n",
    "                if sent[j][1] == \"NNP\":\n",
    "                    loc_to = loc_to + (sent[j][0]) + \" \"\n",
    "                else:\n",
    "                    break\n",
    "                j += 1\n",
    "            loc_to_entered = True\n",
    "            i = j\n",
    "\n",
    "        elif sent[i][1] == 'CD':\n",
    "            if (i + 1 < len(sent)) and sent[i + 1][0] in Seats:\n",
    "                spot = sent[i][0]\n",
    "            \n",
    "        elif (sent[i][0] == \"at\") or (sent[i][0] == \"on\"): # or pair[0] == 'around' will be considered in the future\n",
    "            time_entered = True \n",
    "            time = time + (sent[i][0]) + \" \"\n",
    "            j = i + 1\n",
    "            while j < len(sent):\n",
    "                if sent[j][1] == \"CD\":\n",
    "                    time = time + (sent[j][0]) + \" \"\n",
    "                elif (j + 1 < len(sent)) and sent[j][0] in Months: # Month entered\n",
    "                    time = time + (sent[j][0]) + \" \"\n",
    "                    time = time + (sent[j + 1][0]) + \" \" # date of the month\n",
    "                elif sent[j][1] == \"NN\":\n",
    "                    time = time + (sent[j][0]) + \" \"\n",
    "                else:\n",
    "                    break\n",
    "                j += 1\n",
    "            i = j\n",
    "    this_time = dateparser.parse(time)\n",
    "    timestampStr = this_time.strftime(\"%m-%d,%H:%M\")\n",
    "    return loc_to, loc_from, timestampStr, spot\n",
    " #   if time_entered is False:\n",
    " #       return \"Sorry, the time input was not evaluated. Please re-enter your request\"\n",
    " #   if loc_from_entered is False:\n",
    " #       return \"Sorry, starting location was not evaluated. Please re-enter your request\"\n",
    " #   if loc_to_entered is False:\n",
    " #       return \"Sorry, destination was not evaluated. Please re-enter your request\"\n",
    "   "
   ]
  },
  {
   "cell_type": "code",
   "execution_count": 324,
   "metadata": {
    "scrolled": true
   },
   "outputs": [
    {
     "data": {
      "text/plain": [
       "('Communitech Data Hub ', 'BK Plaza ', '12-08,17:00', '3')"
      ]
     },
     "execution_count": 324,
     "metadata": {},
     "output_type": "execute_result"
    }
   ],
   "source": [
    "    get_info(example1)"
   ]
  },
  {
   "cell_type": "code",
   "execution_count": 325,
   "metadata": {
    "scrolled": true
   },
   "outputs": [
    {
     "name": "stdout",
     "output_type": "stream",
     "text": [
      "Hamilton \n",
      "Niagara Falls \n",
      "12-12,20:00\n",
      "2\n"
     ]
    }
   ],
   "source": [
    "location_to, location_from, timestampStr, spot = get_info(example)\n",
    "print(location_to)\n",
    "print(location_from)\n",
    "print(timestampStr)\n",
    "print(spot)"
   ]
  },
  {
   "cell_type": "code",
   "execution_count": 326,
   "metadata": {
    "scrolled": false
   },
   "outputs": [
    {
     "name": "stdout",
     "output_type": "stream",
     "text": [
      "BK Plaza \n",
      "Union Station \n",
      "12-12,15:00\n",
      "3\n"
     ]
    }
   ],
   "source": [
    "example2 = \"from Union Station to BK Plaza at 3pm on December 12th, 3 seats available\"\n",
    "location_to, location_from, timestampStr, spot = get_info(example2)\n",
    "print(location_to)\n",
    "print(location_from)\n",
    "print(timestampStr)\n",
    "print(spot)"
   ]
  },
  {
   "cell_type": "code",
   "execution_count": 327,
   "metadata": {
    "scrolled": true
   },
   "outputs": [
    {
     "name": "stdout",
     "output_type": "stream",
     "text": [
      "Communitech Data Hub \n",
      "BK Plaza \n",
      "12-08,17:00\n",
      "3\n"
     ]
    }
   ],
   "source": [
    "example3 = \"Hi I need 3 seats from BK Plaza to Communitech Data Hub at 5pm today\"\n",
    "location_to, location_from, timestampStr, spot = get_info(example3)\n",
    "print(location_to)\n",
    "print(location_from)\n",
    "print(timestampStr)\n",
    "print(spot)"
   ]
  },
  {
   "cell_type": "code",
   "execution_count": 329,
   "metadata": {},
   "outputs": [
    {
     "name": "stdout",
     "output_type": "stream",
     "text": [
      "Markvill High School \n",
      "Union Station \n",
      "12-09,18:00\n",
      "1\n"
     ]
    }
   ],
   "source": [
    "example4 = \"Hi at 6pm tomorrow, i need a ride from Union Station to Markvill High School\"\n",
    "location_to, location_from, timestampStr, spot = get_info(example4)\n",
    "print(location_to)\n",
    "print(location_from)\n",
    "print(timestampStr)\n",
    "print(spot)"
   ]
  },
  {
   "cell_type": "code",
   "execution_count": 332,
   "metadata": {},
   "outputs": [
    {
     "name": "stdout",
     "output_type": "stream",
     "text": [
      "New York \n",
      "Toronto \n",
      "12-09,20:00\n",
      "1\n"
     ]
    }
   ],
   "source": [
    "example5 = \"Looking for a ride from Toronto to New York at 8pm tomorrow\"\n",
    "location_to, location_from, timestampStr, spot = get_info(example5)\n",
    "print(location_to)\n",
    "print(location_from)\n",
    "print(timestampStr)\n",
    "print(spot)\n"
   ]
  },
  {
   "cell_type": "code",
   "execution_count": null,
   "metadata": {},
   "outputs": [],
   "source": []
  },
  {
   "cell_type": "code",
   "execution_count": null,
   "metadata": {},
   "outputs": [],
   "source": []
  },
  {
   "cell_type": "code",
   "execution_count": null,
   "metadata": {},
   "outputs": [],
   "source": []
  }
 ],
 "metadata": {
  "kernelspec": {
   "display_name": "Python 3",
   "language": "python",
   "name": "python3"
  },
  "language_info": {
   "codemirror_mode": {
    "name": "ipython",
    "version": 3
   },
   "file_extension": ".py",
   "mimetype": "text/x-python",
   "name": "python",
   "nbconvert_exporter": "python",
   "pygments_lexer": "ipython3",
   "version": "3.7.1"
  }
 },
 "nbformat": 4,
 "nbformat_minor": 2
}
